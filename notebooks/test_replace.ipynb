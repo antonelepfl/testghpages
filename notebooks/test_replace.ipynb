{
  "cells": [
    {
      "metadata": {},
      "cell_type": "markdown",
      "source": [
        "# Analysis"
      ]
    },
    {
      "metadata": {
        "trusted": true,
        "collapsed": true
      },
      "cell_type": "code",
      "source": [
        "!pip install -q -i https://bbpteam.epfl.ch/repository/devpi/simple --pre entity-management\n",
        "import os\n",
        "os.environ['NEXUS_BASE'] = 'https://nexus-int.humanbrainproject.org/v0'\n",
        "os.environ['NEXUS_ORG'] = 'brainsimulation'\n",
        "os.environ['NEXUS_TOKEN'] = 'Bearer %s' % oauth.get_token()\n",
        "os.environ['NEXUS_TOKEN2'] = 'Bearer %s' % oauth.get_token()\n",
        "uuid = 'REPLACE_UUID'"
      ],
      "execution_count": null,
      "outputs": []
    },
    {
      "metadata": {
        "trusted": true,
        "collapsed": true
      },
      "cell_type": "code",
      "source": [
        "from entity_management.simulation import SingleCellSimulationTrace\n",
        "trace = SingleCellSimulationTrace.from_uuid(uuid)\n",
        "trace.download(path='.')"
      ],
      "execution_count": null,
      "outputs": []
    },
    {
      "metadata": {
        "trusted": true
      },
      "cell_type": "code",
      "source": [
        "import pandas as pd\n",
        "%matplotlib inline\n",
        "df = pd.read_csv(trace.distribution[0].originalFileName)\n",
        "df.plot.line(x='time', y='soma[0]_0')"
      ],
      "execution_count": null,
      "outputs": []
    }
  ],
  "metadata": {
    "kernelspec": {
      "name": "python2",
      "display_name": "Python 2",
      "language": "python"
    },
    "language_info": {
      "mimetype": "text/x-python",
      "nbconvert_exporter": "python",
      "name": "python",
      "pygments_lexer": "ipython2",
      "version": "2.7.14",
      "file_extension": ".py",
      "codemirror_mode": {
        "version": 2,
        "name": "ipython"
      }
    }
  },
  "nbformat": 4,
  "nbformat_minor": 2
}
