{
 "cells": [
  {
   "cell_type": "markdown",
   "metadata": {},
   "source": [
    "# Improvements\n",
    "- BlueConfig paths may not be changed here?\n",
    "- Pull BlueConfig and reports with Unicore API"
   ]
  },
  {
   "cell_type": "markdown",
   "metadata": {},
   "source": [
    "# Show Image"
   ]
  },
  {
   "cell_type": "markdown",
   "metadata": {},
   "source": [
    "# Check content of NFS origin"
   ]
  },
  {
   "cell_type": "code",
   "execution_count": null,
   "metadata": {},
   "outputs": [],
   "source": [
    "!ls /mnt/test "
   ]
  },
  {
   "cell_type": "code",
   "execution_count": null,
   "metadata": {},
   "outputs": [],
   "source": [
    "!echo 'modified11111111111'"
   ]
  },
  {
   "cell_type": "code",
   "execution_count": null,
   "metadata": {},
   "outputs": [],
   "source": [
    "!cat /mnt/circuits/O1/20181114/user.target | grep Cell"
   ]
  },
  {
   "cell_type": "markdown",
   "metadata": {},
   "source": [
    "# Pull BlueConfig"
   ]
  },
  {
   "cell_type": "code",
   "execution_count": null,
   "metadata": {},
   "outputs": [],
   "source": [
    "# !pip install pyunicore --upgrade\n",
    "import pyunicore.client as unicore_client\n",
    "import pprint\n",
    "from os.path import join\n",
    "base = \"https://hbp-unic.fz-juelich.de:7112/NUVLA/rest/core\"\n",
    "tr = unicore_client.Transport(oauth.get_token())"
   ]
  },
  {
   "cell_type": "code",
   "execution_count": null,
   "metadata": {},
   "outputs": [],
   "source": [
    "# See all jobs\n",
    "# client = unicore_client.Client(tr,base)\n",
    "# all_jobs = client.get_jobs()\n",
    "# job_selected = all_jobs[0]\n",
    "# for job in all_jobs:\n",
    "#     print(job.properties['name'])"
   ]
  },
  {
   "cell_type": "code",
   "execution_count": null,
   "metadata": {},
   "outputs": [],
   "source": [
    "# Get one specific simulation\n",
    "job_url = 'SIMULATION_URL'\n",
    "job = unicore_client.Job(tr, job_url)\n",
    "print('Simulation Name: {}'.format(job.properties['name']))\n",
    "storage = job.working_dir\n",
    "print('Files:')\n",
    "files_list = storage.listdir()\n",
    "pprint.pprint(files_list)"
   ]
  },
  {
   "cell_type": "code",
   "execution_count": null,
   "metadata": {},
   "outputs": [],
   "source": []
  },
  {
   "cell_type": "code",
   "execution_count": null,
   "metadata": {},
   "outputs": [],
   "source": [
    "# function to download the file and add it to kernel file system\n",
    "def download_file_to_storage(file_name):\n",
    "    x = files_list[file_name]\n",
    "    file_content = x.raw().read()\n",
    "\n",
    "    new_path = join(LOCAL_DIR, file_name)\n",
    "    \n",
    "    if file_name == 'BlueConfig':\n",
    "        writable_content = file_content.replace('/mooc', '/mnt')\n",
    "        writable_content = writable_content.replace('/io', LOCAL_DIR)\n",
    "    else:\n",
    "        writable_content = file_content\n",
    "\n",
    "    with open(new_path, 'w') as fd:\n",
    "        fd.write(writable_content)\n",
    "\n",
    "    print('{} created!'.format(new_path))"
   ]
  },
  {
   "cell_type": "code",
   "execution_count": null,
   "metadata": {},
   "outputs": [],
   "source": [
    "# pull the BlueConfig with Unicore\n",
    "download_file_to_storage('BlueConfig')"
   ]
  },
  {
   "cell_type": "code",
   "execution_count": null,
   "metadata": {},
   "outputs": [],
   "source": [
    "# find report\n",
    "report = next((x for x in files_list if '_report_' in x), None)\n",
    "download_file_to_storage(report)"
   ]
  },
  {
   "cell_type": "code",
   "execution_count": null,
   "metadata": {},
   "outputs": [],
   "source": [
    "# pull the out.dat\n",
    "download_file_to_storage('out.dat')"
   ]
  },
  {
   "cell_type": "code",
   "execution_count": null,
   "metadata": {},
   "outputs": [],
   "source": [
    "!ls $LOCAL_DIR"
   ]
  },
  {
   "cell_type": "markdown",
   "metadata": {},
   "source": [
    "# Explore Circuit"
   ]
  },
  {
   "cell_type": "code",
   "execution_count": null,
   "metadata": {},
   "outputs": [],
   "source": [
    "# !pip install -q -i https://bbpteam.epfl.ch/repository/devpi/simple/ voxcell --force-reinstall\n",
    "# !pip install -q -i https://bbpteam.epfl.ch/repository/devpi/simple/ bluepy --force-reinstall"
   ]
  },
  {
   "cell_type": "code",
   "execution_count": null,
   "metadata": {},
   "outputs": [],
   "source": [
    "from voxcell import VoxelData, RegionMap\n",
    "import bluepy\n",
    "from bluepy.v2.enums import Cell\n",
    "from voxcell.nexus.voxelbrain import Atlas\n",
    "import pandas as pd\n",
    "import numpy as np\n",
    "import matplotlib.pyplot as plt\n",
    "from datetime import datetime\n",
    "import time"
   ]
  },
  {
   "cell_type": "code",
   "execution_count": null,
   "metadata": {},
   "outputs": [],
   "source": [
    "circuit = bluepy.Circuit(join(LOCAL_DIR, 'BlueConfig'))"
   ]
  },
  {
   "cell_type": "code",
   "execution_count": null,
   "metadata": {},
   "outputs": [],
   "source": [
    "mtypes = circuit.v2.cells.mtypes\n",
    "targets = ['mc'+str(idx) for idx in range(7)]"
   ]
  },
  {
   "cell_type": "code",
   "execution_count": null,
   "metadata": {},
   "outputs": [],
   "source": []
  },
  {
   "cell_type": "code",
   "execution_count": null,
   "metadata": {},
   "outputs": [],
   "source": [
    "composition = pd.DataFrame(index=mtypes, columns=targets)\n",
    "for target in targets:\n",
    "    for mtype in mtypes:\n",
    "        composition[target][mtype] = len(circuit.v2.cells.ids(group={Cell.MTYPE: mtype, Cell.REGION: '@'+target+'.*'}))\n",
    "\n",
    "composition.head()"
   ]
  },
  {
   "cell_type": "code",
   "execution_count": null,
   "metadata": {},
   "outputs": [],
   "source": [
    "# Get the GID of miniColumns\n",
    "minicolumns = ['mc{}_Column'.format(str(idx)) for idx in range(7)]\n",
    "gids_by_mc = {}\n",
    "for minicolum in minicolumns:\n",
    "    mcX_values = circuit.v2.cells.get(minicolum).index.get_values()\n",
    "    print('Name: {} - Cells: {} - GIDs: {}'.format(minicolum, len(mcX_values), mcX_values))\n",
    "    gids_by_mc[minicolum] = mcX_values\n"
   ]
  },
  {
   "cell_type": "markdown",
   "metadata": {},
   "source": [
    "# Connectivity"
   ]
  },
  {
   "cell_type": "code",
   "execution_count": null,
   "metadata": {},
   "outputs": [],
   "source": [
    "def pair_coord_distance(circuit, pregid, postgid):\n",
    "    p0 = circuit.v2.cells.get(pregid, [Cell.X, Cell.Y, Cell.Z]).values\n",
    "    p1 = circuit.v2.cells.get(postgid, [Cell.X, Cell.Y, Cell.Z]).values\n",
    "    return abs(p0-p1)\n",
    "\n",
    "def connection_probability(circuit, pregids, postgids, zdist, xmin, xmax, nsample):\n",
    "    counter = 0\n",
    "    connected = 0\n",
    "    exp_attempted = 0\n",
    "    for idx in range(nsample):\n",
    "        attempts = 0\n",
    "        pregid = np.random.choice(pregids)\n",
    "        # check if the cells are within the defined distance\n",
    "        distant = True\n",
    "        while distant:\n",
    "            postgid = np.random.choice(postgids)\n",
    "            # avoid to pick up the same gid\n",
    "            if postgid == pregid:\n",
    "                pass\n",
    "            dx, _dy, dz = pair_coord_distance(circuit, pregid, postgid)\n",
    "            if (dx < xmax) and (dx < xmax) and (dz < zdist):\n",
    "                distant = False\n",
    "            else:\n",
    "                attempts += 1\n",
    "            # avoid to enter in an infinit loop\n",
    "            if attempts > 100:\n",
    "                distant = False\n",
    "                exp_attempted += 1\n",
    "        if circuit.v2.stats.sample_pathway_synapse_count(1, pre=pregid, post=postgid) > 0:\n",
    "                connected += 1\n",
    "        if exp_attempted > 10:\n",
    "            pass\n",
    "    return connected/nsample"
   ]
  },
  {
   "cell_type": "code",
   "execution_count": null,
   "metadata": {},
   "outputs": [],
   "source": []
  },
  {
   "cell_type": "code",
   "execution_count": null,
   "metadata": {},
   "outputs": [],
   "source": [
    "bio_path = '/mnt/entities/bionames/20181114/connection_probability.txt'"
   ]
  },
  {
   "cell_type": "code",
   "execution_count": null,
   "metadata": {},
   "outputs": [],
   "source": [
    "df = pd.read_csv(bio_path, sep='\\t', index_col = False)"
   ]
  },
  {
   "cell_type": "code",
   "execution_count": null,
   "metadata": {},
   "outputs": [],
   "source": [
    "df.head()"
   ]
  },
  {
   "cell_type": "code",
   "execution_count": null,
   "metadata": {},
   "outputs": [],
   "source": []
  },
  {
   "cell_type": "code",
   "execution_count": null,
   "metadata": {},
   "outputs": [],
   "source": [
    "# remove datapoint with n<10\n",
    "df.drop([3, 11, 13, 17], inplace=True)"
   ]
  },
  {
   "cell_type": "code",
   "execution_count": null,
   "metadata": {},
   "outputs": [],
   "source": [
    "nsample = 1000\n",
    "nrepetitions = 3\n",
    "xmax = 400\n",
    "zdist = 100"
   ]
  },
  {
   "cell_type": "code",
   "execution_count": null,
   "metadata": {},
   "outputs": [],
   "source": [
    "df['mod_mean'] = 0.0\n",
    "df['mod_std'] = 0.0"
   ]
  },
  {
   "cell_type": "code",
   "execution_count": null,
   "metadata": {},
   "outputs": [],
   "source": [
    "for index, row in df.iterrows():\n",
    "    \n",
    "    model_probability = np.zeros(nrepetitions)\n",
    "    \n",
    "    target = 'slice' + str(int(row['slice']))\n",
    "    \n",
    "    pre1 = circuit.v2.cells.ids(row['Pre'])\n",
    "    pre2 = circuit.v2.cells.ids(target)\n",
    "    pregids = np.intersect1d(pre1, pre2)\n",
    "    \n",
    "    post1 = circuit.v2.cells.ids(row['Post'])\n",
    "    post2 = circuit.v2.cells.ids(target)\n",
    "    postgids = np.intersect1d(post1, post2)\n",
    "    \n",
    "    if len(pregids)*len(pregids) == 0:\n",
    "        print('missing mtype')\n",
    "        pass\n",
    "        \n",
    "    for idx in range(nrepetitions):\n",
    "        model_probability[idx] = connection_probability(circuit, pregids, postgids, zdist, row['xmin'], xmax, nsample)\n",
    "\n",
    "    df.loc[index, 'mod_mean'] = model_probability.mean()\n",
    "    df.loc[index, 'mod_std'] = model_probability.std()\n",
    "\n",
    "    print(time.asctime(), row['Pre'], row['Post'], 'done')\n",
    "    "
   ]
  },
  {
   "cell_type": "code",
   "execution_count": null,
   "metadata": {},
   "outputs": [],
   "source": []
  },
  {
   "cell_type": "markdown",
   "metadata": {},
   "source": [
    "# Analyze Reports"
   ]
  },
  {
   "cell_type": "code",
   "execution_count": null,
   "metadata": {},
   "outputs": [],
   "source": [
    "from bluepy.v2 import Simulation, Circuit\n",
    "from bluepy.v2.enums import Cell\n",
    "import matplotlib.pyplot as plt\n",
    "import numpy as np\n",
    "from datetime import datetime\n",
    "# from PyPDF2 import PdfFileMerger, PdfFileReader\n",
    "import os\n",
    "import pandas as pd"
   ]
  },
  {
   "cell_type": "code",
   "execution_count": null,
   "metadata": {},
   "outputs": [],
   "source": [
    "sim = Simulation(join(LOCAL_DIR, 'BlueConfig'))"
   ]
  },
  {
   "cell_type": "code",
   "execution_count": null,
   "metadata": {},
   "outputs": [],
   "source": [
    "gids = sim.circuit.cells.ids(group={Cell.MTYPE: 'SP_PC', Cell.REGION: '@mc2.*'}, sample=100)"
   ]
  },
  {
   "cell_type": "code",
   "execution_count": null,
   "metadata": {},
   "outputs": [],
   "source": [
    "fig, ax = plt.subplots()\n",
    "# ax = sim.v2.plot.raster(gids, groupby='mtype', t_start=0)\n",
    "ax = sim.plot.raster(gids, t_start=0)\n",
    "# ax.legend()\n",
    "timestamp = datetime.now().strftime('%Y%m%dT%H%M%S')\n",
    "# fig.savefig('/home/romani/Desktop/rasterplot_' + timestamp + '.png')\n",
    "plt.show()"
   ]
  },
  {
   "cell_type": "code",
   "execution_count": null,
   "metadata": {},
   "outputs": [],
   "source": []
  },
  {
   "cell_type": "code",
   "execution_count": null,
   "metadata": {},
   "outputs": [],
   "source": []
  }
 ],
 "metadata": {
  "kernelspec": {
   "display_name": "Python 3",
   "language": "python",
   "name": "python3"
  },
  "language_info": {
   "codemirror_mode": {
    "name": "ipython",
    "version": 3
   },
   "file_extension": ".py",
   "mimetype": "text/x-python",
   "name": "python",
   "nbconvert_exporter": "python",
   "pygments_lexer": "ipython3",
   "version": "3.6.9"
  }
 },
 "nbformat": 4,
 "nbformat_minor": 4
}
